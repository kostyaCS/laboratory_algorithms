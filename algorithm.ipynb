{
 "cells": [
  {
   "cell_type": "code",
   "execution_count": 2,
   "metadata": {},
   "outputs": [],
   "source": [
    "import random\n",
    "import networkx as nx\n",
    "import matplotlib.pyplot as plt\n",
    "from itertools import combinations, groupby\n",
    "import time\n",
    "from tqdm import tqdm\n",
    "from networkx.algorithms import tree"
   ]
  },
  {
   "cell_type": "code",
   "execution_count": 4,
   "metadata": {},
   "outputs": [],
   "source": [
    "def gnp_random_connected_graph(num_of_nodes: int,\n",
    "                               completeness: int,\n",
    "                               directed: bool = False,\n",
    "                               draw: bool = False):\n",
    "    \"\"\"\n",
    "    Generates a random graph, similarly to an Erdős-Rényi \n",
    "    graph, but enforcing that the resulting graph is conneted (in case of undirected graphs)\n",
    "    \"\"\"\n",
    "    if directed:\n",
    "        G = nx.DiGraph()\n",
    "    else:\n",
    "        G = nx.Graph()\n",
    "    edges = combinations(range(num_of_nodes), 2)\n",
    "    G.add_nodes_from(range(num_of_nodes))\n",
    "    \n",
    "    for _, node_edges in groupby(edges, key = lambda x: x[0]):\n",
    "        node_edges = list(node_edges)\n",
    "        random_edge = random.choice(node_edges)\n",
    "        if random.random() < 0.5:\n",
    "            random_edge = random_edge[::-1]\n",
    "        G.add_edge(*random_edge)\n",
    "        for e in node_edges:\n",
    "            if random.random() < completeness:\n",
    "                G.add_edge(*e)\n",
    "                \n",
    "    for (u,v,w) in G.edges(data=True):\n",
    "        w['weight'] = random.randint(-5, 20)\n",
    "                \n",
    "    if draw:\n",
    "        plt.figure(figsize=(10,6))\n",
    "        if directed:\n",
    "            # draw with edge weights\n",
    "            pos = nx.arf_layout(G)\n",
    "            nx.draw(G,pos, node_color='lightblue',\n",
    "                    with_labels=True,\n",
    "                    node_size=500, \n",
    "                    arrowsize=20, \n",
    "                    arrows=True)\n",
    "            labels = nx.get_edge_attributes(G,'weight')\n",
    "            nx.draw_networkx_edge_labels(G, pos,edge_labels=labels)\n",
    "            \n",
    "        else:\n",
    "            nx.draw(G, node_color='lightblue',\n",
    "                with_labels=True,\n",
    "                node_size=500)\n",
    "    return G\n"
   ]
  },
  {
   "cell_type": "code",
   "execution_count": 5,
   "metadata": {},
   "outputs": [],
   "source": [
    "def kruskals_algorithm(graph):\n",
    "    \"\"\"\n",
    "    Kruskal's algorithm to find the minimum spanning tree for a connected weighted graph\n",
    "    \"\"\"\n",
    "    graph_edges = graph.edges(data=True) # getting edges with their weight\n",
    "    sorted_edges = sorted(graph_edges, key= lambda x: x[2].get('weight')) # sorted edges from the smalles to the biggest weight\n",
    "    dict_of_connected_nodes = {} # dictionary for nodes as a keys and list with connected nodes with them as a value\n",
    "    connected_nodes = [] # list for saving nodes, that are already connected\n",
    "    edges = [] # resulting list with the minimum spanning tree\n",
    "    for edge in sorted_edges:\n",
    "        if not edge[0] in connected_nodes or not edge[1] in connected_nodes: # checking if one of the nodes are not connected\n",
    "            if not edge[0] in connected_nodes and not edge[1] in connected_nodes: # checking for both\n",
    "                dict_of_connected_nodes[edge[0]] = [edge[0], edge[1]] # connect two nodes with each other\n",
    "                dict_of_connected_nodes[edge[1]] = [edge[0], edge[1]]\n",
    "            else:\n",
    "                if not dict_of_connected_nodes.get(edge[0]): # another case when first node is isolated\n",
    "                    dict_of_connected_nodes[edge[1]].append(edge[0])\n",
    "                    dict_of_connected_nodes[edge[0]] = dict_of_connected_nodes[edge[1]]\n",
    "                else: # another case when second node is isolated\n",
    "                    dict_of_connected_nodes[edge[0]].append(edge[1])\n",
    "                    dict_of_connected_nodes[edge[1]] = dict_of_connected_nodes[edge[0]]\n",
    "            edges.append(edge)\n",
    "            connected_nodes.append(edge[0])\n",
    "            connected_nodes.append(edge[1])\n",
    "    for i in sorted_edges:\n",
    "        if i[0] in dict_of_connected_nodes[i[0]] and i[1] not in dict_of_connected_nodes[i[0]]: # connecting different sets of nodes with each other\n",
    "            edges.append(i)\n",
    "    return edges\n"
   ]
  },
  {
   "cell_type": "code",
   "execution_count": 8,
   "metadata": {},
   "outputs": [
    {
     "name": "stderr",
     "output_type": "stream",
     "text": [
      "100%|██████████| 10/10 [00:00<00:00, 1745.81it/s]\n",
      "100%|██████████| 10/10 [00:00<00:00, 1624.94it/s]\n",
      "100%|██████████| 10/10 [00:00<00:00, 311.20it/s]\n",
      "100%|██████████| 10/10 [00:00<00:00, 72.71it/s]\n",
      "100%|██████████| 10/10 [00:00<00:00, 13.21it/s]\n",
      "100%|██████████| 10/10 [00:07<00:00,  1.30it/s]"
     ]
    },
    {
     "name": "stdout",
     "output_type": "stream",
     "text": [
      "Size - 10: My realization - 4.08172607421875e-05 | Networkx algorithms - 9.512901306152344e-05\n",
      "Size - 20: My realization - 0.00017137527465820311 | Networkx algorithms - 0.00034558773040771484\n",
      "Size - 50: My realization - 0.001046156883239746 | Networkx algorithms - 0.001530933380126953\n",
      "Size - 100: My realization - 0.006176972389221191 | Networkx algorithms - 0.0057702302932739254\n",
      "Size - 200: My realization - 0.04549431800842285 | Networkx algorithms - 0.025313591957092284\n",
      "Size - 500: My realization - 0.5803280353546143 | Networkx algorithms - 0.1470111131668091\n"
     ]
    },
    {
     "name": "stderr",
     "output_type": "stream",
     "text": [
      "\n"
     ]
    }
   ],
   "source": [
    "NUM_OF_ITERATIONS = 10\n",
    "time_taken_my_algo = 0\n",
    "time_taken_pc_algo = 0\n",
    "list_with_nums = [10, 20, 50, 100, 200, 500]\n",
    "results_my = []\n",
    "results_pc = []\n",
    "\n",
    "for i in list_with_nums:\n",
    "    for j in tqdm(range(NUM_OF_ITERATIONS)):\n",
    "        G = gnp_random_connected_graph(i, 0.4, False)\n",
    "        \n",
    "        start = time.time()\n",
    "        kruskals_algorithm(G)\n",
    "        end = time.time()\n",
    "        time_taken_my_algo += end - start\n",
    "\n",
    "        start = time.time()\n",
    "        tree.minimum_spanning_tree(G, algorithm=\"kruskal\")\n",
    "        end = time.time() \n",
    "        time_taken_pc_algo += end - start\n",
    "\n",
    "    results_my.append(time_taken_my_algo / NUM_OF_ITERATIONS)\n",
    "    results_pc.append(time_taken_pc_algo / NUM_OF_ITERATIONS)\n",
    "\n",
    "for index in range(len(list_with_nums)):\n",
    "    print(f\"Size - {list_with_nums[index]}: My realization - {results_my[index]} | Networkx algorithms - {results_pc[index]}\")"
   ]
  }
 ],
 "metadata": {
  "kernelspec": {
   "display_name": "base",
   "language": "python",
   "name": "python3"
  },
  "language_info": {
   "codemirror_mode": {
    "name": "ipython",
    "version": 3
   },
   "file_extension": ".py",
   "mimetype": "text/x-python",
   "name": "python",
   "nbconvert_exporter": "python",
   "pygments_lexer": "ipython3",
   "version": "3.9.12"
  },
  "orig_nbformat": 4,
  "vscode": {
   "interpreter": {
    "hash": "6bc529c9842000a9017749877277141acb598fed55e43a615bb06968077301e4"
   }
  }
 },
 "nbformat": 4,
 "nbformat_minor": 2
}
